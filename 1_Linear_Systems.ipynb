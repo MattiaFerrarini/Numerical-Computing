{
  "nbformat": 4,
  "nbformat_minor": 0,
  "metadata": {
    "colab": {
      "provenance": []
    },
    "kernelspec": {
      "name": "python3",
      "display_name": "Python 3"
    },
    "language_info": {
      "name": "python"
    }
  },
  "cells": [
    {
      "cell_type": "markdown",
      "source": [
        "# Linear Systems"
      ],
      "metadata": {
        "id": "Nt9uS-m0eX_x"
      }
    },
    {
      "cell_type": "markdown",
      "source": [
        "## 1. Matrices and Norms"
      ],
      "metadata": {
        "id": "-AD5PEjoexgP"
      }
    },
    {
      "cell_type": "code",
      "execution_count": 1,
      "metadata": {
        "id": "VVqjpm7OeWxN"
      },
      "outputs": [],
      "source": [
        "import numpy as np"
      ]
    },
    {
      "cell_type": "code",
      "source": [
        "n = 2\n",
        "A = np.array([[1, 2], [0.499, 1.001]])"
      ],
      "metadata": {
        "id": "fvh9VS6ve34q"
      },
      "execution_count": 2,
      "outputs": []
    },
    {
      "cell_type": "code",
      "source": [
        "norm1 = np.linalg.norm(A, ord=1)\n",
        "norm2 = np.linalg.norm(A, ord=2)\n",
        "normfro = np.linalg.norm(A, ord='fro')\n",
        "norminf = np.linalg.norm(A, ord=np.inf)\n",
        "\n",
        "print ('Norm of A:')\n",
        "print('Norm 1:', norm1)\n",
        "print('Norm 2:', norm2)\n",
        "print('Frobenius Norm:', normfro)\n",
        "print('Infinity Norm:', norminf)"
      ],
      "metadata": {
        "colab": {
          "base_uri": "https://localhost:8080/"
        },
        "id": "NlLdQJ3-e5TQ",
        "outputId": "a559d85b-aeb8-4b5a-e3c1-ecc5ac4c01b1"
      },
      "execution_count": 3,
      "outputs": [
        {
          "output_type": "stream",
          "name": "stdout",
          "text": [
            "Norm of A:\n",
            "Norm 1: 3.001\n",
            "Norm 2: 2.500200104037774\n",
            "Frobenius Norm: 2.5002003919686118\n",
            "Infinity Norm: 3.0\n"
          ]
        }
      ]
    },
    {
      "cell_type": "code",
      "source": [
        "cond1 = np.linalg.cond(A, p=1)\n",
        "cond2 = np.linalg.cond(A, p=2)\n",
        "condfro = np.linalg.cond(A, p='fro')\n",
        "condinf = np.linalg.cond(A, p=np.inf)\n",
        "\n",
        "print ('Condition number of A:')\n",
        "print ('K(A)_1 =', cond1)\n",
        "print ('K(A)_2 =', cond2)\n",
        "print ('K(A)_fro =', condfro)\n",
        "print ('K(A)_inf =', condinf)"
      ],
      "metadata": {
        "colab": {
          "base_uri": "https://localhost:8080/"
        },
        "id": "yMWj1UH-e8F6",
        "outputId": "9200538e-15a9-45c4-872b-d3675183fc10"
      },
      "execution_count": 4,
      "outputs": [
        {
          "output_type": "stream",
          "name": "stdout",
          "text": [
            "Condition number of A:\n",
            "K(A)_1 = 3001.0000000001082\n",
            "K(A)_2 = 2083.666853410337\n",
            "K(A)_fro = 2083.6673333334084\n",
            "K(A)_inf = 3001.0000000001082\n"
          ]
        }
      ]
    },
    {
      "cell_type": "code",
      "source": [
        "x = np.ones((2,1))\n",
        "b = A @ x\n",
        "print(b)"
      ],
      "metadata": {
        "colab": {
          "base_uri": "https://localhost:8080/"
        },
        "id": "LOEUPJtifC16",
        "outputId": "b6449f5e-c3e4-4946-dc40-0ef5467bd036"
      },
      "execution_count": 5,
      "outputs": [
        {
          "output_type": "stream",
          "name": "stdout",
          "text": [
            "[[3. ]\n",
            " [1.5]]\n"
          ]
        }
      ]
    },
    {
      "cell_type": "code",
      "source": [
        "btilde = np.array([[3], [1.4985]])\n",
        "xtilde = np.array([[2, 0.5]]).T"
      ],
      "metadata": {
        "id": "7Yau76-ufuw3"
      },
      "execution_count": 6,
      "outputs": []
    },
    {
      "cell_type": "code",
      "source": [
        "# Verifying that xtilde is solution of the system A xtilde = btilde (Axtilde)\n",
        "my_btilde = A @ xtilde\n",
        "print ('A*xtilde =', btilde)\n",
        "print(f\"Frobenius norm of btilde - my_btilde = {np.linalg.norm(btilde-my_btilde,'fro')}\")"
      ],
      "metadata": {
        "colab": {
          "base_uri": "https://localhost:8080/"
        },
        "id": "LPzj5EB3fwwy",
        "outputId": "39be0664-78d1-4fc0-c359-0a5ab61e3634"
      },
      "execution_count": 7,
      "outputs": [
        {
          "output_type": "stream",
          "name": "stdout",
          "text": [
            "A*xtilde = [[3.    ]\n",
            " [1.4985]]\n",
            "Frobenius norm of btilde - my_btilde = 0.0\n"
          ]
        }
      ]
    },
    {
      "cell_type": "code",
      "source": [
        "deltax = np.linalg.norm(x - xtilde, ord=2)\n",
        "deltab = np.linalg.norm(b - btilde, ord=2)\n",
        "\n",
        "print ('delta x =', deltax)\n",
        "print ('delta b =', deltab)\n",
        "print(\"delta x / delta b =\", deltax / deltab)"
      ],
      "metadata": {
        "colab": {
          "base_uri": "https://localhost:8080/"
        },
        "id": "u_BjRvfTgYm2",
        "outputId": "befb73bb-be8c-4813-85fc-8379022922c8"
      },
      "execution_count": 8,
      "outputs": [
        {
          "output_type": "stream",
          "name": "stdout",
          "text": [
            "delta x = 1.118033988749895\n",
            "delta b = 0.0015000000000000568\n",
            "delta x / delta b = 745.3559924999017\n"
          ]
        }
      ]
    },
    {
      "cell_type": "markdown",
      "source": [
        "## 2.1 LU Factorization"
      ],
      "metadata": {
        "id": "EcS_9kRtg1zT"
      }
    },
    {
      "cell_type": "code",
      "source": [
        "import scipy\n",
        "import scipy.linalg\n",
        "from scipy.linalg import lu_factor as LUdec\n",
        "from scipy.linalg import lu as LUfull"
      ],
      "metadata": {
        "id": "l4bP8LTChHiL"
      },
      "execution_count": 9,
      "outputs": []
    },
    {
      "cell_type": "code",
      "source": [
        "# creation of data and test problem\n",
        "A = np.array ([ [3,-1, 1,-2], [0, 2, 5, -1], [1, 0, -7, 1], [0, 2, 1, 1]  ])\n",
        "x = np.ones((4,1))\n",
        "b = A @ x\n",
        "condA = np.linalg.cond(A)"
      ],
      "metadata": {
        "id": "3UV9xeEBhDqk"
      },
      "execution_count": 10,
      "outputs": []
    },
    {
      "cell_type": "code",
      "source": [
        "print('x: \\n', x , '\\n')\n",
        "print('x.shape: ', x.shape, '\\n' )\n",
        "print('b: \\n', b , '\\n')\n",
        "print('b.shape: ', b.shape, '\\n' )\n",
        "print('A: \\n', A, '\\n')\n",
        "print('A.shape: ', A.shape, '\\n' )\n",
        "print('K(A)=', condA, '\\n')"
      ],
      "metadata": {
        "colab": {
          "base_uri": "https://localhost:8080/"
        },
        "id": "CDY1EYHqhLAI",
        "outputId": "2b93cc56-8ec1-453e-9528-2f333990bfae"
      },
      "execution_count": 11,
      "outputs": [
        {
          "output_type": "stream",
          "name": "stdout",
          "text": [
            "x: \n",
            " [[1.]\n",
            " [1.]\n",
            " [1.]\n",
            " [1.]] \n",
            "\n",
            "x.shape:  (4, 1) \n",
            "\n",
            "b: \n",
            " [[ 1.]\n",
            " [ 6.]\n",
            " [-5.]\n",
            " [ 4.]] \n",
            "\n",
            "b.shape:  (4, 1) \n",
            "\n",
            "A: \n",
            " [[ 3 -1  1 -2]\n",
            " [ 0  2  5 -1]\n",
            " [ 1  0 -7  1]\n",
            " [ 0  2  1  1]] \n",
            "\n",
            "A.shape:  (4, 4) \n",
            "\n",
            "K(A)= 14.208370392921381 \n",
            "\n"
          ]
        }
      ]
    },
    {
      "cell_type": "code",
      "source": [
        "lu, piv = scipy.linalg.lu_factor(A)\n",
        "print('lu',lu,'\\n')\n",
        "print('piv',piv,'\\n')"
      ],
      "metadata": {
        "colab": {
          "base_uri": "https://localhost:8080/"
        },
        "id": "6_LxTpwHhkyK",
        "outputId": "547e68ac-85f4-47f7-843c-2e1c40470678"
      },
      "execution_count": 12,
      "outputs": [
        {
          "output_type": "stream",
          "name": "stdout",
          "text": [
            "lu [[ 3.         -1.          1.         -2.        ]\n",
            " [ 0.          2.          5.         -1.        ]\n",
            " [ 0.33333333  0.16666667 -8.16666667  1.83333333]\n",
            " [ 0.          1.          0.48979592  1.10204082]] \n",
            "\n",
            "piv [0 1 2 3] \n",
            "\n"
          ]
        }
      ]
    },
    {
      "cell_type": "code",
      "source": [
        "# solving Ax = b   <--->  PLUx = b\n",
        "my_x = scipy.linalg.lu_solve((lu, piv), b)\n",
        "\n",
        "print('my_x = \\n', my_x)\n",
        "print('norm =', scipy.linalg.norm(x-my_x, 'fro'))"
      ],
      "metadata": {
        "colab": {
          "base_uri": "https://localhost:8080/"
        },
        "id": "zcHbziuShqtE",
        "outputId": "5a6cbd82-84db-44ab-dbb4-d9840673e403"
      },
      "execution_count": 13,
      "outputs": [
        {
          "output_type": "stream",
          "name": "stdout",
          "text": [
            "my_x = \n",
            " [[1.]\n",
            " [1.]\n",
            " [1.]\n",
            " [1.]]\n",
            "norm = 7.021666937153402e-16\n"
          ]
        }
      ]
    },
    {
      "cell_type": "markdown",
      "source": [
        "### Alternative implementation"
      ],
      "metadata": {
        "id": "W2IU01Iyhzds"
      }
    },
    {
      "cell_type": "code",
      "source": [
        "P, L, U = scipy.linalg.lu(A)\n",
        "\n",
        "print (f'A = \\n {A} \\n')\n",
        "print (f'P = \\n {P} \\n')\n",
        "print (f'L = \\n {L} \\n')\n",
        "print (f'U = \\n {U} \\n')\n",
        "\n",
        "print (f'P*L*U = \\n {np.matmul(P , np.matmul(L, U))} \\n')\n",
        "print ('diff = ',   np.linalg.norm(A - np.matmul(P , np.matmul(L, U)), 'fro'))"
      ],
      "metadata": {
        "colab": {
          "base_uri": "https://localhost:8080/"
        },
        "id": "aPrBv-GBhvgq",
        "outputId": "e7ba503f-16b5-4a8d-e85e-1a691558d2df"
      },
      "execution_count": 14,
      "outputs": [
        {
          "output_type": "stream",
          "name": "stdout",
          "text": [
            "A = \n",
            " [[ 3 -1  1 -2]\n",
            " [ 0  2  5 -1]\n",
            " [ 1  0 -7  1]\n",
            " [ 0  2  1  1]] \n",
            "\n",
            "P = \n",
            " [[1. 0. 0. 0.]\n",
            " [0. 1. 0. 0.]\n",
            " [0. 0. 1. 0.]\n",
            " [0. 0. 0. 1.]] \n",
            "\n",
            "L = \n",
            " [[1.         0.         0.         0.        ]\n",
            " [0.         1.         0.         0.        ]\n",
            " [0.33333333 0.16666667 1.         0.        ]\n",
            " [0.         1.         0.48979592 1.        ]] \n",
            "\n",
            "U = \n",
            " [[ 3.         -1.          1.         -2.        ]\n",
            " [ 0.          2.          5.         -1.        ]\n",
            " [ 0.          0.         -8.16666667  1.83333333]\n",
            " [ 0.          0.          0.          1.10204082]] \n",
            "\n",
            "P*L*U = \n",
            " [[ 3. -1.  1. -2.]\n",
            " [ 0.  2.  5. -1.]\n",
            " [ 1.  0. -7.  1.]\n",
            " [ 0.  2.  1.  1.]] \n",
            "\n",
            "diff =  1.5700924586837752e-16\n"
          ]
        }
      ]
    },
    {
      "cell_type": "markdown",
      "source": [
        "The following two cases can both be applied in this case since P = identity matrix."
      ],
      "metadata": {
        "id": "GygJ2Uiq0c0H"
      }
    },
    {
      "cell_type": "code",
      "source": [
        "# if P != np.eye(n):\n",
        "# Ax = b   <--->  PLUx = b  <--->  LUx = inv(P)b  <--->  Ly=inv(P)b & Ux=y\n",
        "invP = np.linalg.inv(P)\n",
        "y = scipy.linalg.solve_triangular(L, invP@b, lower=True, unit_diagonal=True)\n",
        "my_x = scipy.linalg.solve_triangular(U, y, lower=False)\n",
        "\n",
        "print('Calculated solution:\\n: ', my_x)\n",
        "print('norm =', scipy.linalg.norm(x-my_x, 'fro'))"
      ],
      "metadata": {
        "colab": {
          "base_uri": "https://localhost:8080/"
        },
        "id": "ik2A_JnXliOM",
        "outputId": "60c7139e-d013-4d90-9c77-3ac423da2643"
      },
      "execution_count": 15,
      "outputs": [
        {
          "output_type": "stream",
          "name": "stdout",
          "text": [
            "Calculated solution:\n",
            ":  [[1.]\n",
            " [1.]\n",
            " [1.]\n",
            " [1.]]\n",
            "norm = 5.438959822042073e-16\n"
          ]
        }
      ]
    },
    {
      "cell_type": "code",
      "source": [
        "# if P == np.eye(n):\n",
        "# Ax = b   <--->  PLUx = b  <--->  PLy=b & Ux=y\n",
        "y = scipy.linalg.solve_triangular(np.matmul(P,L) , b, lower=True, unit_diagonal=True)\n",
        "my_x = scipy.linalg.solve_triangular(U, y, lower=False)\n",
        "\n",
        "print('Calculated solution:\\n', my_x)\n",
        "print('norm =', scipy.linalg.norm(x-my_x, 'fro'))"
      ],
      "metadata": {
        "colab": {
          "base_uri": "https://localhost:8080/"
        },
        "id": "3jJ4YEXVloH6",
        "outputId": "1ec17e03-7e63-489e-bc0f-21fde8321b9e"
      },
      "execution_count": 16,
      "outputs": [
        {
          "output_type": "stream",
          "name": "stdout",
          "text": [
            "Calculated solution:\n",
            " [[1.]\n",
            " [1.]\n",
            " [1.]\n",
            " [1.]]\n",
            "norm = 5.438959822042073e-16\n"
          ]
        }
      ]
    },
    {
      "cell_type": "markdown",
      "source": [
        "## 2.2 Choleski factorizaion with Hilbert matrix\n",
        "\n"
      ],
      "metadata": {
        "id": "qXRYjXYaiC0Z"
      }
    },
    {
      "cell_type": "code",
      "source": [
        "import matplotlib.pyplot as plt"
      ],
      "metadata": {
        "id": "1LqlFGLeiICE"
      },
      "execution_count": 17,
      "outputs": []
    },
    {
      "cell_type": "code",
      "source": [
        "# creation of data and test problem\n",
        "n = 5\n",
        "A = scipy.linalg.hilbert(n)\n",
        "x = np.ones((n,1))\n",
        "b = A @ x\n",
        "condA = np.linalg.cond(A)"
      ],
      "metadata": {
        "id": "roZbPrAIiOVl"
      },
      "execution_count": 18,
      "outputs": []
    },
    {
      "cell_type": "code",
      "source": [
        "print('x: \\n', x , '\\n')\n",
        "print('x.shape: ', x.shape, '\\n' )\n",
        "print('b: \\n', b , '\\n')\n",
        "print('b.shape: ', b.shape, '\\n' )\n",
        "print('A: \\n', A, '\\n')\n",
        "print('A.shape: ', A.shape, '\\n' )\n",
        "print('K(A) =', condA, '\\n')"
      ],
      "metadata": {
        "colab": {
          "base_uri": "https://localhost:8080/"
        },
        "id": "T5XcZyBYiXUq",
        "outputId": "cfe85357-5f60-48b5-f1ca-d17b5c6be3ea"
      },
      "execution_count": 19,
      "outputs": [
        {
          "output_type": "stream",
          "name": "stdout",
          "text": [
            "x: \n",
            " [[1.]\n",
            " [1.]\n",
            " [1.]\n",
            " [1.]\n",
            " [1.]] \n",
            "\n",
            "x.shape:  (5, 1) \n",
            "\n",
            "b: \n",
            " [[2.28333333]\n",
            " [1.45      ]\n",
            " [1.09285714]\n",
            " [0.88452381]\n",
            " [0.74563492]] \n",
            "\n",
            "b.shape:  (5, 1) \n",
            "\n",
            "A: \n",
            " [[1.         0.5        0.33333333 0.25       0.2       ]\n",
            " [0.5        0.33333333 0.25       0.2        0.16666667]\n",
            " [0.33333333 0.25       0.2        0.16666667 0.14285714]\n",
            " [0.25       0.2        0.16666667 0.14285714 0.125     ]\n",
            " [0.2        0.16666667 0.14285714 0.125      0.11111111]] \n",
            "\n",
            "A.shape:  (5, 5) \n",
            "\n",
            "K(A) = 476607.2502425855 \n",
            "\n"
          ]
        }
      ]
    },
    {
      "cell_type": "code",
      "source": [
        "# Choleski factorization\n",
        "L = scipy.linalg.cholesky(A, lower=True)\n",
        "print('L:', L, '\\n')\n",
        "print('L.T*L =', L@L.T)\n",
        "print('err = ', scipy.linalg.norm(A-L@L.T, 'fro'))"
      ],
      "metadata": {
        "colab": {
          "base_uri": "https://localhost:8080/"
        },
        "id": "IDRjRTyZieXW",
        "outputId": "448e725b-4000-46b8-b6ba-878e9010298d"
      },
      "execution_count": 20,
      "outputs": [
        {
          "output_type": "stream",
          "name": "stdout",
          "text": [
            "L: [[1.         0.         0.         0.         0.        ]\n",
            " [0.5        0.28867513 0.         0.         0.        ]\n",
            " [0.33333333 0.28867513 0.0745356  0.         0.        ]\n",
            " [0.25       0.25980762 0.1118034  0.01889822 0.        ]\n",
            " [0.2        0.23094011 0.12777531 0.03779645 0.0047619 ]] \n",
            "\n",
            "L.T*L = [[1.         0.5        0.33333333 0.25       0.2       ]\n",
            " [0.5        0.33333333 0.25       0.2        0.16666667]\n",
            " [0.33333333 0.25       0.2        0.16666667 0.14285714]\n",
            " [0.25       0.2        0.16666667 0.14285714 0.125     ]\n",
            " [0.2        0.16666667 0.14285714 0.125      0.11111111]]\n",
            "err =  2.7755575615628914e-17\n"
          ]
        }
      ]
    },
    {
      "cell_type": "code",
      "source": [
        "# solving the system\n",
        "y = scipy.linalg.solve_triangular(L, b, lower=True)\n",
        "my_x = scipy.linalg.solve_triangular(L.T, y, lower=False)\n",
        "print('my_x = ', my_x)\n",
        "print('norm =', scipy.linalg.norm(x-my_x, 'fro'))"
      ],
      "metadata": {
        "colab": {
          "base_uri": "https://localhost:8080/"
        },
        "id": "e08DZASui2Mn",
        "outputId": "ed417729-9de4-4596-df6a-2605693ad1eb"
      },
      "execution_count": 21,
      "outputs": [
        {
          "output_type": "stream",
          "name": "stdout",
          "text": [
            "my_x =  [[1.]\n",
            " [1.]\n",
            " [1.]\n",
            " [1.]\n",
            " [1.]]\n",
            "norm = 2.6732599660997558e-12\n"
          ]
        }
      ]
    },
    {
      "cell_type": "markdown",
      "source": [
        "### 2.2.1 Choleski factorizaion with Hilbert matrices of increasing sizes\n"
      ],
      "metadata": {
        "id": "oZT1wwnUi8xC"
      }
    },
    {
      "cell_type": "code",
      "source": [
        "xmin, xmax = 5, 11\n",
        "\n",
        "K_A = np.zeros((xmax - xmin,1))\n",
        "Err = np.zeros((xmax - xmin,1))\n",
        "xplot = np.arange(xmin, xmax)"
      ],
      "metadata": {
        "id": "xj3Rhejwi-3a"
      },
      "execution_count": 22,
      "outputs": []
    },
    {
      "cell_type": "code",
      "source": [
        "for n in xplot:\n",
        "    # creation of data and test problem\n",
        "    A = scipy.linalg.hilbert(n)\n",
        "    x = np.ones((n,1))\n",
        "    b = A @ x\n",
        "\n",
        "    # condition number\n",
        "    K_A[n-xmin] = np.linalg.cond(A)\n",
        "\n",
        "    # factorization\n",
        "    L = scipy.linalg.cholesky(A)\n",
        "    y = scipy.linalg.solve_triangular(L, b, lower=True)\n",
        "    my_x = scipy.linalg.solve_triangular(L.T, y, lower=False)\n",
        "\n",
        "    # relative error\n",
        "    Err[n-xmin] = np.linalg.norm(x-my_x, ord=2)/np.linalg.norm(x, ord=2)\n"
      ],
      "metadata": {
        "id": "vB8r1JaRjadk"
      },
      "execution_count": 23,
      "outputs": []
    },
    {
      "cell_type": "code",
      "source": [
        "# graph of condition number vs matrix dimension\n",
        "plt.semilogy(xplot, K_A)\n",
        "plt.title('Condition number of A ')\n",
        "plt.xlabel('Dimension of A (n)')\n",
        "plt.ylabel('K(A)')\n",
        "plt.show()"
      ],
      "metadata": {
        "colab": {
          "base_uri": "https://localhost:8080/",
          "height": 472
        },
        "id": "f0TnDKVrjG0e",
        "outputId": "85a1551c-5ab8-4b27-809f-0a0589e7a926"
      },
      "execution_count": 24,
      "outputs": [
        {
          "output_type": "display_data",
          "data": {
            "text/plain": [
              "<Figure size 640x480 with 1 Axes>"
            ],
            "image/png": "[encoded data removed]"
          },
          "metadata": {}
        }
      ]
    },
    {
      "cell_type": "code",
      "source": [
        "# graph of solution relative error vs matrix dimension\n",
        "plt.semilogy(xplot, Err)\n",
        "plt.title('Relative error')\n",
        "plt.xlabel('Dimension of A: n')\n",
        "plt.ylabel('Err = ||my_x-x||/||x||')\n",
        "plt.show()"
      ],
      "metadata": {
        "colab": {
          "base_uri": "https://localhost:8080/",
          "height": 472
        },
        "id": "-dKc66LRjJpr",
        "outputId": "56f5d973-dcdd-4574-c240-516ee76dcea4"
      },
      "execution_count": 25,
      "outputs": [
        {
          "output_type": "display_data",
          "data": {
            "text/plain": [
              "<Figure size 640x480 with 1 Axes>"
            ],
            "image/png": "[encoded data removed]"
          },
          "metadata": {}
        }
      ]
    },
    {
      "cell_type": "markdown",
      "source": [
        "### 2.2.2 Failed Cholesky factorization due to rounding and algorithmic errors"
      ],
      "metadata": {
        "id": "mw8gQIgvkMs-"
      }
    },
    {
      "cell_type": "code",
      "source": [
        "for n in range(5, 20):\n",
        "  A = scipy.linalg.hilbert(n)\n",
        "  try:\n",
        "    L = scipy.linalg.cholesky(A)\n",
        "  except:\n",
        "    print('Factorization failed for n =', n)"
      ],
      "metadata": {
        "colab": {
          "base_uri": "https://localhost:8080/"
        },
        "id": "4eEemeRekLvA",
        "outputId": "00ccbe40-17e3-4f35-da20-fa918a3a6f23"
      },
      "execution_count": 26,
      "outputs": [
        {
          "output_type": "stream",
          "name": "stdout",
          "text": [
            "Factorization failed for n = 14\n",
            "Factorization failed for n = 15\n",
            "Factorization failed for n = 16\n",
            "Factorization failed for n = 17\n",
            "Factorization failed for n = 18\n",
            "Factorization failed for n = 19\n"
          ]
        }
      ]
    }
  ]
}